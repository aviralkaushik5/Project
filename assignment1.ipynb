{
 "cells": [
  {
   "cell_type": "code",
   "execution_count": 1,
   "id": "a39e2d3a-4789-446b-8016-2de7ada4a7ca",
   "metadata": {},
   "outputs": [
    {
     "name": "stdout",
     "output_type": "stream",
     "text": [
      "Name : Aviral Kaushik \n",
      "class : MCA B1\n",
      "3.12.4 | packaged by Anaconda, Inc. | (main, Jun 18 2024, 10:07:17) [Clang 14.0.6 ]\n"
     ]
    }
   ],
   "source": [
    "#part 1\n",
    "\n",
    "print(\"Name : Aviral Kaushik \")\n",
    "print(\"class : MCA B1\")\n",
    "import sys\n",
    "print(sys.version)"
   ]
  },
  {
   "cell_type": "code",
   "execution_count": 2,
   "id": "f3507969-c77f-4aff-9308-2abdbe0b64c5",
   "metadata": {},
   "outputs": [
    {
     "name": "stdout",
     "output_type": "stream",
     "text": [
      "hello,python world!\n"
     ]
    }
   ],
   "source": [
    "#part1\n",
    "print(\"hello,python world!\")"
   ]
  },
  {
   "cell_type": "code",
   "execution_count": 5,
   "id": "b90cfd46-5bd4-4015-89cc-e536e8d37b75",
   "metadata": {},
   "outputs": [
    {
     "name": "stdin",
     "output_type": "stream",
     "text": [
      "Enter the first name : aviral\n",
      "Enter the last name : kaushik\n"
     ]
    },
    {
     "name": "stdout",
     "output_type": "stream",
     "text": [
      "kihsuak lariva\n"
     ]
    }
   ],
   "source": [
    "first_name= input(\"Enter the first name :\") \n",
    "#in this code we get a input of first name from user and put in a variable a which act like a string variable \n",
    "last_name= input(\"Enter the last name :\")\n",
    " #in this section we do same work to take a input of last name from user and put in a variable b a string variable \n",
    "c= first_name+ \" \" +last_name \n",
    "#in this line we do concatenation of two variable a and b and store the final result in a variable c \n",
    "\n",
    "print(c[: :-1])\n",
    "\n",
    "#and in final line we need a reverse output of the name that why we use c variable and pass a parameter in square bracket in which we do a reversing of string -1 measn it print string from lasr element to the first element in the reeverse order\n"
   ]
  },
  {
   "cell_type": "code",
   "execution_count": 7,
   "id": "b1ce8d0b-f630-4bb0-a0fa-f043ba5727de",
   "metadata": {},
   "outputs": [
    {
     "name": "stdout",
     "output_type": "stream",
     "text": [
      "numeric data types and conversion functions\n"
     ]
    },
    {
     "name": "stdin",
     "output_type": "stream",
     "text": [
      "input number : 5\n"
     ]
    },
    {
     "name": "stdout",
     "output_type": "stream",
     "text": [
      "integer value : 5\n",
      "float value : 5.0\n",
      "complex value : (5+0j)\n"
     ]
    }
   ],
   "source": [
    "print(\"numeric data types and conversion functions\")\n",
    "#take a number as user input \n",
    "number=input(\"input number :\")\n",
    "\n",
    "integer_value=int(number)\n",
    "float_value=float(number)\n",
    "complex_value=complex(number)\n",
    "\n",
    "print(\"integer value :\",integer_value)\n",
    "print(\"float value :\",float_value)\n",
    "print(\"complex value :\",complex_value)\n",
    "# Explanation of the differences between these data types:\n",
    "# Integer (int): Represents whole numbers without a fractional component (e.g., 5, -3, 100).\n",
    "# Float (float): Represents numbers with a decimal point, allowing fractional components (e.g., 3.14, -0.001).\n",
    "# Complex (complex): Represents complex numbers with a real and imaginary part (e.g., 3+4j, where 3 is the real part and 4 is the imaginary part)."
   ]
  },
  {
   "cell_type": "code",
   "execution_count": 11,
   "id": "cb596ea3-6d55-4f11-9c9f-2fcd008c9b53",
   "metadata": {},
   "outputs": [
    {
     "name": "stdout",
     "output_type": "stream",
     "text": [
      "find area of triangle \n",
      "\n"
     ]
    },
    {
     "name": "stdin",
     "output_type": "stream",
     "text": [
      "input length of rectangle : 10\n",
      "input the width of the rectangle : 5\n"
     ]
    },
    {
     "name": "stdout",
     "output_type": "stream",
     "text": [
      "area :  50\n"
     ]
    }
   ],
   "source": [
    "print(\"find area of triangle \\n\")\n",
    "#creat two variables length and width for the side of the rectangle\n",
    "length=int(input(\"input length of rectangle :\"))\n",
    "width=int(input(\"input the width of the rectangle :\"))\n",
    "#creat a variable as area and use the formula to calculate the area\n",
    "area=length*width\n",
    "\n",
    "print(\"area : \",area)\n"
   ]
  },
  {
   "cell_type": "code",
   "execution_count": 12,
   "id": "ac219219-1fd0-478a-a054-32019bc68fa0",
   "metadata": {},
   "outputs": [
    {
     "name": "stdout",
     "output_type": "stream",
     "text": [
      "area of rectangle is : 50.00\n"
     ]
    }
   ],
   "source": [
    "#Using format function calculate the area of rectangle from the above function\n",
    "print(f\"area of rectangle is : {area:.2f}\")"
   ]
  },
  {
   "cell_type": "code",
   "execution_count": 13,
   "id": "1d4fd786-79c0-4ff2-bc6f-9d828a66a266",
   "metadata": {},
   "outputs": [
    {
     "name": "stdin",
     "output_type": "stream",
     "text": [
      "input the number 1: 10\n",
      "input the number 2 : 15\n",
      "input the number 3 : 40\n"
     ]
    },
    {
     "name": "stdout",
     "output_type": "stream",
     "text": [
      "avg of the three number is : .21.666667\n"
     ]
    }
   ],
   "source": [
    "#take three numbers and print there average \n",
    "\n",
    "num_1=float(input(\"input the number 1:\"))\n",
    "num_2=float(input(\"input the number 2 :\"))\n",
    "num_3=float(input(\"input the number 3 :\"))\n",
    "\n",
    "#calculate the average\n",
    "avg=(num_1+num_2+num_3)/3\n",
    "\n",
    "print(\"avg of the three number is : .%2f\"%avg)"
   ]
  },
  {
   "cell_type": "code",
   "execution_count": 14,
   "id": "2101b31a-05c3-4bd4-b8f0-5142f34e7459",
   "metadata": {},
   "outputs": [
    {
     "name": "stdin",
     "output_type": "stream",
     "text": [
      "input the number : 5\n"
     ]
    },
    {
     "name": "stdout",
     "output_type": "stream",
     "text": [
      "number is positive\n"
     ]
    }
   ],
   "source": [
    "#determine the number whether it is positive,negative or zero\n",
    "\n",
    "number=float(input(\"input the number :\"))\n",
    "#determine the number whether it is positove , negative or zero\n",
    "if(number>0):\n",
    "    {\n",
    "        print(\"number is positive\")\n",
    "}\n",
    "elif(number < 0):{\n",
    "    print(\"number is negative\")\n",
    "}\n",
    "else:{\n",
    "    print(\"number is zero\")\n",
    "}\n"
   ]
  },
  {
   "cell_type": "code",
   "execution_count": 16,
   "id": "78cac75d-740f-4c3d-a2f9-8e7beefaa47c",
   "metadata": {},
   "outputs": [
    {
     "name": "stdin",
     "output_type": "stream",
     "text": [
      "input number : 6\n"
     ]
    },
    {
     "name": "stdout",
     "output_type": "stream",
     "text": [
      "the number is positive,enter EXIT to exit the program\n"
     ]
    },
    {
     "name": "stdin",
     "output_type": "stream",
     "text": [
      "input number : 0\n"
     ]
    },
    {
     "name": "stdout",
     "output_type": "stream",
     "text": [
      "the number is zero,enter EXIT to exit the program\n"
     ]
    },
    {
     "name": "stdin",
     "output_type": "stream",
     "text": [
      "input number : exit\n"
     ]
    },
    {
     "name": "stdout",
     "output_type": "stream",
     "text": [
      "Exiting the program.\n"
     ]
    }
   ],
   "source": [
    "#implementing loop that continue to askhe user or a number until they enter \"exit\"\n",
    "while True:\n",
    "    number=input(\"input number :\")\n",
    "    if number.lower()==\"exit\":\n",
    "        print(\"Exiting the program.\")\n",
    "        break\n",
    "    else:\n",
    "        \n",
    "            num=float(number)\n",
    "            if num > 0:\n",
    "                \n",
    "                print(\"the number is positive,enter EXIT to exit the program\")\n",
    "\n",
    "            elif num < 0:\n",
    "                print(\"the number is negative,enter EXIT to exit the program\")\n",
    "            else :\n",
    "                print(\"the number is zero,enter EXIT to exit the program\")"
   ]
  },
  {
   "cell_type": "code",
   "execution_count": 17,
   "id": "d8be5482-75ef-4eb0-8b17-190ea735576e",
   "metadata": {},
   "outputs": [
    {
     "name": "stdin",
     "output_type": "stream",
     "text": [
      "input the number 1 : 6\n",
      "input number 2 : 5\n"
     ]
    },
    {
     "name": "stdout",
     "output_type": "stream",
     "text": [
      "one number is even and other one is odd\n"
     ]
    }
   ],
   "source": [
    "#check whether the number is Even or Odd\n",
    "\n",
    "first_num=int(input(\"input the number 1 :\"))\n",
    "second_num=int(input(\"input number 2 :\"))\n",
    "#check the number that they are Even or Odd\n",
    "if(first_num % 2 == 0 and second_num % 2 == 0):\n",
    "    print(\"both numbers are even\")\n",
    "elif(first_num % 2 != 0 and second_num % 2 != 0):\n",
    "    print(\"both numbers are odd\")\n",
    "else:\n",
    "    print(\"one number is even and other one is odd\")"
   ]
  }
 ],
 "metadata": {
  "kernelspec": {
   "display_name": "Python 3 (ipykernel)",
   "language": "python",
   "name": "python3"
  },
  "language_info": {
   "codemirror_mode": {
    "name": "ipython",
    "version": 3
   },
   "file_extension": ".py",
   "mimetype": "text/x-python",
   "name": "python",
   "nbconvert_exporter": "python",
   "pygments_lexer": "ipython3",
   "version": "3.12.4"
  }
 },
 "nbformat": 4,
 "nbformat_minor": 5
}
